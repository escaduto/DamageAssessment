{
  "nbformat": 4,
  "nbformat_minor": 0,
  "metadata": {
    "colab": {
      "name": "[2]BuildingDamage.ipynb",
      "provenance": [],
      "toc_visible": true,
      "machine_shape": "hm",
      "authorship_tag": "ABX9TyOMT7XnPXWMjHtpgTh1Of7Y",
      "include_colab_link": true
    },
    "kernelspec": {
      "name": "python3",
      "display_name": "Python 3"
    }
  },
  "cells": [
    {
      "cell_type": "markdown",
      "metadata": {
        "id": "view-in-github",
        "colab_type": "text"
      },
      "source": [
        "<a href=\"https://colab.research.google.com/github/escaduto/DamageAssessment/blob/master/%5B2%5DBuildingDamage.ipynb\" target=\"_parent\"><img src=\"https://colab.research.google.com/assets/colab-badge.svg\" alt=\"Open In Colab\"/></a>"
      ]
    },
    {
      "cell_type": "markdown",
      "metadata": {
        "id": "MnhAeuHTs5cx",
        "colab_type": "text"
      },
      "source": [
        "## Setup"
      ]
    },
    {
      "cell_type": "code",
      "metadata": {
        "id": "it57VqJ18sTS",
        "colab_type": "code",
        "colab": {
          "base_uri": "https://localhost:8080/",
          "height": 51
        },
        "outputId": "65012d7d-3928-427b-ddae-bfea3fb2784d"
      },
      "source": [
        "from google.colab import drive # import drive from google colab\n",
        "ROOT = \"/content/drive\"     # default location for the drive\n",
        "print(ROOT)                 # print content of ROOT (Optional)\n",
        "\n",
        "drive.mount(ROOT)           # we mount the google drive at /content/drive"
      ],
      "execution_count": null,
      "outputs": [
        {
          "output_type": "stream",
          "text": [
            "/content/drive\n",
            "Drive already mounted at /content/drive; to attempt to forcibly remount, call drive.mount(\"/content/drive\", force_remount=True).\n"
          ],
          "name": "stdout"
        }
      ]
    },
    {
      "cell_type": "code",
      "metadata": {
        "id": "4-_GExkZ8xbS",
        "colab_type": "code",
        "colab": {}
      },
      "source": [
        "import os\n",
        "rootPath = '/content/drive/My Drive/BuildingDamage_Model'\n",
        "os.chdir(rootPath)"
      ],
      "execution_count": null,
      "outputs": []
    },
    {
      "cell_type": "code",
      "metadata": {
        "id": "t5fEjgi3wAz1",
        "colab_type": "code",
        "colab": {}
      },
      "source": [
        "import IPython.display as ipd\n",
        "from scipy.io import wavfile\n",
        "\n",
        "soundfile1 = 'Metal_Gong.wav'\n",
        "soundfile2 = 'Warbling.wav'"
      ],
      "execution_count": null,
      "outputs": []
    },
    {
      "cell_type": "code",
      "metadata": {
        "id": "L9hm5qmjWp-n",
        "colab_type": "code",
        "colab": {}
      },
      "source": [
        "def lstFiles(rootPath, ext):\n",
        "  '''\n",
        "  retrieve file path + names based on extension\n",
        "  '''\n",
        "  file_list = []\n",
        "  root = rootPath\n",
        "  for path, subdirs, files in os.walk(root):\n",
        "      for names in files: \n",
        "          if names.endswith(ext): \n",
        "              file_list.append(os.path.join(path, names))\n",
        "  return(file_list)\n",
        "\n",
        "def createFolder(rootPath, folderName): \n",
        "  '''\n",
        "  Create new folder in root path \n",
        "  '''\n",
        "  folderPath = os.path.join(rootPath, folderName) \n",
        "  if not os.path.exists(folderPath):\n",
        "      os.makedirs(folderPath)\n",
        "  return folderPath + \"/\""
      ],
      "execution_count": null,
      "outputs": []
    },
    {
      "cell_type": "markdown",
      "metadata": {
        "id": "EPhH-8EFZCxP",
        "colab_type": "text"
      },
      "source": [
        "## Import Packages"
      ]
    },
    {
      "cell_type": "code",
      "metadata": {
        "id": "g8tgRvDWZMwu",
        "colab_type": "code",
        "colab": {}
      },
      "source": [
        "# Important library for many geopython libraries\n",
        "!apt install gdal-bin python-gdal python3-gdal \n",
        "# Install rtree - Geopandas requirment\n",
        "!apt install python3-rtree \n",
        "# Install Geopandas\n",
        "!pip install git+git://github.com/geopandas/geopandas.git\n",
        "# Install descartes - Geopandas requirment\n",
        "!pip install descartes \n",
        "# Install Folium for Geographic data visualization\n",
        "!pip install folium\n",
        "# Install plotlyExpress\n",
        "!pip install plotly_express"
      ],
      "execution_count": null,
      "outputs": []
    },
    {
      "cell_type": "code",
      "metadata": {
        "id": "T75LXeYUbVbh",
        "colab_type": "code",
        "colab": {}
      },
      "source": [
        "import pandas as pd\n",
        "import numpy as np\n",
        "import geopandas as gpd\n",
        "from shapely.geometry import Point\n",
        "import matplotlib\n",
        "import matplotlib.pyplot as plt \n",
        "import folium\n",
        "import rtree"
      ],
      "execution_count": null,
      "outputs": []
    },
    {
      "cell_type": "markdown",
      "metadata": {
        "id": "h5plExDldrTP",
        "colab_type": "text"
      },
      "source": [
        "### Building Footprints"
      ]
    },
    {
      "cell_type": "code",
      "metadata": {
        "id": "UKJC03Qs-rtX",
        "colab_type": "code",
        "colab": {}
      },
      "source": [
        "%ls 'data/Model_Output_Dataset/Prefire_Footprint_Detection/predicted_byFire/poly'"
      ],
      "execution_count": null,
      "outputs": []
    },
    {
      "cell_type": "code",
      "metadata": {
        "id": "wEXlAIdDWtAg",
        "colab_type": "code",
        "colab": {}
      },
      "source": [
        "predicted_lst = lstFiles('data/Model_Output_Dataset/Prefire_Footprint_Detection/predicted_byFire/poly', '.geojson')\n",
        "predicted_buildings = gpd.read_file(predicted_lst[0])"
      ],
      "execution_count": null,
      "outputs": []
    },
    {
      "cell_type": "code",
      "metadata": {
        "id": "OPaRJe4G-a2t",
        "colab_type": "code",
        "colab": {}
      },
      "source": [
        "# add fire name, fire year \n",
        "print(predicted_lst[0])\n",
        "predicted_buildings"
      ],
      "execution_count": null,
      "outputs": []
    },
    {
      "cell_type": "markdown",
      "metadata": {
        "id": "jRneGQCpHqdx",
        "colab_type": "text"
      },
      "source": [
        "### FRAP Fire Perimeters"
      ]
    },
    {
      "cell_type": "code",
      "metadata": {
        "id": "GdgbQzsDHsJM",
        "colab_type": "code",
        "colab": {}
      },
      "source": [
        "fire_perimeters = gpd.read_file('data/FRAP_Perimeters/FRAP_2012_2019.shp')"
      ],
      "execution_count": null,
      "outputs": []
    },
    {
      "cell_type": "code",
      "metadata": {
        "id": "C9Tp2wTlH0No",
        "colab_type": "code",
        "colab": {}
      },
      "source": [
        "fire_perimeters"
      ],
      "execution_count": null,
      "outputs": []
    },
    {
      "cell_type": "markdown",
      "metadata": {
        "id": "Sx2jBis6du8z",
        "colab_type": "text"
      },
      "source": [
        "### Structural Damage Data"
      ]
    },
    {
      "cell_type": "code",
      "metadata": {
        "id": "bAppA6xNdpzZ",
        "colab_type": "code",
        "colab": {}
      },
      "source": [
        "damage_file = lstFiles('data/All_Incidents_2013_2019_DINS_GDB', 'gdb')"
      ],
      "execution_count": null,
      "outputs": []
    },
    {
      "cell_type": "code",
      "metadata": {
        "id": "STECZozyeKh8",
        "colab_type": "code",
        "colab": {}
      },
      "source": [
        "damage_gdb = gpd.read_file('data/All_Incidents_2013_2019_DINS_GDB/All_Incidents_2013_2019_DINS_GDB/All_Incidents_2013_2019_DINS_GDB.gdb')"
      ],
      "execution_count": null,
      "outputs": []
    },
    {
      "cell_type": "code",
      "metadata": {
        "id": "NJfqcp-0j1IF",
        "colab_type": "code",
        "colab": {
          "base_uri": "https://localhost:8080/",
          "height": 255
        },
        "outputId": "dce93803-c3db-4f89-ba6c-3f6e11f9a423"
      },
      "source": [
        "damage_gdb.columns"
      ],
      "execution_count": null,
      "outputs": [
        {
          "output_type": "execute_result",
          "data": {
            "text/plain": [
              "Index(['DAMAGE', 'STREETNUMBER', 'STREETNAME', 'STREETTYPE', 'STREETSUFFIX',\n",
              "       'CITY', 'STATE', 'ZIPCODE', 'CALFIREUNIT', 'COUNTY', 'COMMUNITY',\n",
              "       'BATTALION', 'INCIDENTNAME', 'INCIDENTNUM', 'INCIDENTSTARTDATE',\n",
              "       'HAZARDTYPE', 'WHEREFIRESTARTEDONSTRUCTURE', 'WHATDIDFIRESTARTFROM',\n",
              "       'DEFENSIVEACTIONS', 'PROPANETANKDISTANCE', 'STRUCTURETYPE',\n",
              "       'STRUCTURECATEGORY', 'NUMBEROFUNITPERSTRUCTURE',\n",
              "       'NONHABITABLEOUTBUILDINGS', 'NOOUTBUILDINGSDAMAGED',\n",
              "       'NOOUTBUILDINGSNOTDAMAGED', 'ROOFCONSTRUCTION', 'EAVES', 'VENTSCREEN',\n",
              "       'EXTERIORSIDING', 'WINDOWPANE', 'DECKPORCHONGRADE', 'DECKPORCHELEVATED',\n",
              "       'PATIOCOVERCARPORT', 'FENCEATTACHEDTOSTRUCTURE',\n",
              "       'UTILITYMISCSTRUCTUREDISTANCE', 'FIRENAME', 'APN',\n",
              "       'ASSESSEDIMPROVEDVALUE', 'YEARBUILT', 'SITEADDRESS_PFIS', 'GLOBALID',\n",
              "       'Total_Text', 'Latitide', 'Longitude', 'geometry'],\n",
              "      dtype='object')"
            ]
          },
          "metadata": {
            "tags": []
          },
          "execution_count": 14
        }
      ]
    },
    {
      "cell_type": "markdown",
      "metadata": {
        "id": "t5P1euHBicMk",
        "colab_type": "text"
      },
      "source": [
        "### Basic Stats\n",
        "\n",
        "pie charts: https://medium.com/@kvnamipara/a-better-visualisation-of-pie-charts-by-matplotlib-935b7667d77f"
      ]
    },
    {
      "cell_type": "code",
      "metadata": {
        "id": "ANS98DSDjgPl",
        "colab_type": "code",
        "colab": {
          "base_uri": "https://localhost:8080/",
          "height": 139
        },
        "outputId": "3d0a17fd-dde0-4699-e22e-745ac2334469"
      },
      "source": [
        "print('Damage Classes: ', damage_gdb.DAMAGE.unique().tolist())\n",
        "print('Fire Incidences: ', len(damage_gdb.INCIDENTNAME.unique().tolist()), damage_gdb.INCIDENTNAME.unique().tolist())\n",
        "print('Structure Classes: ', len(damage_gdb.STRUCTURECATEGORY.unique()), damage_gdb.STRUCTURECATEGORY.unique().tolist())\n",
        "print('STRUCTURETYPE: ', len(damage_gdb.STRUCTURETYPE.unique()), damage_gdb.STRUCTURETYPE.unique().tolist())\n",
        "print('Fire Date: ', len(damage_gdb.INCIDENTSTARTDATE.unique().tolist()), damage_gdb.INCIDENTSTARTDATE.unique().tolist())\n",
        "print('HAZARDTYPE: ', damage_gdb.HAZARDTYPE.unique().tolist())"
      ],
      "execution_count": null,
      "outputs": [
        {
          "output_type": "stream",
          "text": [
            "Damage Classes:  ['Destroyed (>50%)', 'Affected (1-9%)', 'Major (26-50%)', 'Minor (10-25%)', 'No Damage', 'Inaccessible']\n",
            "Fire Incidences:  110 ['Camp', 'Woolsey', 'Hill', 'Stoll', 'Pawnee', 'Ranch', 'River', 'Klamathon', 'Cranston', 'Carr', 'Holy', 'Grant', 'Frazier', 'Creek', 'Horse', 'Hyatt', 'Waverly', 'Ruby', 'County', 'West', 'Ridge', 'Irish', 'Nicolaus', 'Colusa', 'Vista', 'Carder', 'Spring', 'Marsh', 'Steele', 'Omega', 'Wagner', 'Delta', 'Meyers', 'Richmond', 'Holiday', 'Silver', 'Calgary', 'Ponderosa', 'Estate', 'Atlas', 'Nuns', 'Tubbs', 'Thomas', 'Pocket', 'Skirball', 'Bear', 'Cocos', 'Valley', 'Butte', 'Cascade', 'Clayton', 'Chimney', 'Sulphur', 'Black', 'Boles', 'Erskine', 'Soberanes', 'Tassajara', 'Round', 'Rocky', 'Stone', 'Alamo', 'Laverne', 'Whittier', 'Owens_River', 'Loma', 'Grade', 'Foothill', 'Thirty_Seven', 'Lilac', 'Mission', 'Peak', 'Detwiler', 'Redwood', 'Wall', 'Canyon_2', 'Cherokee', 'Laporte', 'McCourtney', 'Lobo', 'Spenceville', 'Pleasant', 'Helena', 'Goose', 'Railroad', 'Fay', 'Cathedral', 'Miller', 'Garza', 'Timm', 'Canyon', 'Clover', 'High', 'Sand', 'Trinity', 'Mines', 'Aborn', 'Pablo', 'Mountain', 'Willow', 'Rimrock', 'Swedes', 'Red_Bank', 'Sandalwood', 'Saddleridge', 'Forty_Six_46th', 'Maria', 'Getty', 'Kincade', 'Tick']\n",
            "Structure Classes:  8 ['Single Residence', 'Other Minor Structure', 'Nonresidential Commercial', 'Multiple Residence', 'Mixed Commercial/Residential', 'Infrastructure', 'Agriculture', 'Other']\n",
            "STRUCTURETYPE:  19 ['Mobile Home Double Wide', 'Single Family Residence Single Story', 'Utility Misc Structure', 'Mobile Home Single Wide', 'Commercial Building Single Story', 'Multi Family Residence Single Story', 'Mobile Home Triple Wide', 'School', 'Single Family Residence Multi Story', 'Motor Home', 'Mixed Commercial/Residential', 'Commercial Building Multi Story', 'Church', 'Multi Family Residence Multi Story', 'Infrastructure', 'Agriculture', 'Single Famliy Residence Single Story', 'Hospital', 'Other']\n",
            "Fire Date:  86 ['11/8/2018', '11/08/2018', '6/23/2018', '7/27/2018', '7/5/2018', '7/25/2018', '7/23/2018', '8/6/2018', '5/30/2018', '6/3/2018', '6/24/2018', '6/27/2018', '6/30/2018', '6/14/2018', '7/1/2018', '7/6/2018', '7/8/2018', '7/21/2018', '7/9/2018', '7/28/2018', '8/1/2018', '8/4/2018', '9/20/2018', '9/29/2018', '09/02/2018', '8/5/2017', '8/29/2017', '09/23/2017', '10/08/2017', '12/4/2017', '10/09/2017', '12/6/2017', '10/16/2017', '5/14/2014', '9/12/2015', '9/09/2015', '10/8/2017', '8/13/2016', '9/13/2014', '9/15/2014', '6/24/2016', '7/22/2016', '09/19/2015', '2/6/2015', '7/29/2015', '7/9/2017', '7/6/2017', '7/18/2017', '7/8/2017', '9/17/2016', '9/26/2016', '8/24/2016', '7/27/2017', '10/9/2017', '12/5/2017', '12/7/2017', '9/3/2017', '7/16/2017', '7/7/2017', '7/24/2017', '08/30/2017', '8/30/2017', '7/30/2016', '08/29/2017', '6/26/2017', '7/5/2017', '8/31/2017', '7/10/2017', '10/2/2017', '09/25/2017', '9/9/2013', '8/7/2013', '5/24/2019', '6/8/2019', '6/25/2019', '7/15/2019', '6/23/2019', '8/22/2019', '9/7/2019', '8/12/2019', '9/5/2019', '10/10/2019', '10/31/2019', '10/28/2019', '10/23/2019', '10/24/2019']\n",
            "HAZARDTYPE:  ['Fire', 'Earthquake']\n"
          ],
          "name": "stdout"
        }
      ]
    },
    {
      "cell_type": "code",
      "metadata": {
        "id": "qemRfD8wxkZN",
        "colab_type": "code",
        "colab": {}
      },
      "source": [
        "# drop inaccessible \n",
        "damage_gdb = damage_gdb[damage_gdb['DAMAGE'] != 'Inaccessible']"
      ],
      "execution_count": null,
      "outputs": []
    },
    {
      "cell_type": "code",
      "metadata": {
        "id": "uNUvotQnensL",
        "colab_type": "code",
        "colab": {
          "base_uri": "https://localhost:8080/",
          "height": 204
        },
        "outputId": "1b948727-a442-4b49-dd74-f4913383978a"
      },
      "source": [
        "groupedbyDamage = damage_gdb.groupby(['DAMAGE']).count().reset_index()\n",
        "groupedbyDamage = groupedbyDamage[['DAMAGE', 'INCIDENTNUM']]\n",
        "groupedbyDamage = groupedbyDamage.sort_values(by='INCIDENTNUM', ascending=True)\n",
        "groupedbyDamage"
      ],
      "execution_count": null,
      "outputs": [
        {
          "output_type": "execute_result",
          "data": {
            "text/html": [
              "<div>\n",
              "<style scoped>\n",
              "    .dataframe tbody tr th:only-of-type {\n",
              "        vertical-align: middle;\n",
              "    }\n",
              "\n",
              "    .dataframe tbody tr th {\n",
              "        vertical-align: top;\n",
              "    }\n",
              "\n",
              "    .dataframe thead th {\n",
              "        text-align: right;\n",
              "    }\n",
              "</style>\n",
              "<table border=\"1\" class=\"dataframe\">\n",
              "  <thead>\n",
              "    <tr style=\"text-align: right;\">\n",
              "      <th></th>\n",
              "      <th>DAMAGE</th>\n",
              "      <th>INCIDENTNUM</th>\n",
              "    </tr>\n",
              "  </thead>\n",
              "  <tbody>\n",
              "    <tr>\n",
              "      <th>2</th>\n",
              "      <td>Major (26-50%)</td>\n",
              "      <td>351</td>\n",
              "    </tr>\n",
              "    <tr>\n",
              "      <th>3</th>\n",
              "      <td>Minor (10-25%)</td>\n",
              "      <td>662</td>\n",
              "    </tr>\n",
              "    <tr>\n",
              "      <th>0</th>\n",
              "      <td>Affected (1-9%)</td>\n",
              "      <td>2103</td>\n",
              "    </tr>\n",
              "    <tr>\n",
              "      <th>4</th>\n",
              "      <td>No Damage</td>\n",
              "      <td>6163</td>\n",
              "    </tr>\n",
              "    <tr>\n",
              "      <th>1</th>\n",
              "      <td>Destroyed (&gt;50%)</td>\n",
              "      <td>38696</td>\n",
              "    </tr>\n",
              "  </tbody>\n",
              "</table>\n",
              "</div>"
            ],
            "text/plain": [
              "             DAMAGE  INCIDENTNUM\n",
              "2    Major (26-50%)          351\n",
              "3    Minor (10-25%)          662\n",
              "0   Affected (1-9%)         2103\n",
              "4         No Damage         6163\n",
              "1  Destroyed (>50%)        38696"
            ]
          },
          "metadata": {
            "tags": []
          },
          "execution_count": 19
        }
      ]
    },
    {
      "cell_type": "markdown",
      "metadata": {
        "id": "jzkcMUMXfUD_",
        "colab_type": "text"
      },
      "source": [
        "##Spatial Join Predicted to damage"
      ]
    },
    {
      "cell_type": "code",
      "metadata": {
        "id": "AU0tH6Hus2MP",
        "colab_type": "code",
        "colab": {
          "base_uri": "https://localhost:8080/",
          "height": 136
        },
        "outputId": "bf219dc9-f548-4951-8e5a-bfe3bb85e9d6"
      },
      "source": [
        "predicted_lst[-7:]"
      ],
      "execution_count": null,
      "outputs": [
        {
          "output_type": "execute_result",
          "data": {
            "text/plain": [
              "['data/Model_Output_Dataset/Prefire_Footprint_Detection/predicted_byFire/poly/Kincade_PredictedBuildings.geojson',\n",
              " 'data/Model_Output_Dataset/Prefire_Footprint_Detection/predicted_byFire/poly/Valley_PredictedBuildings.geojson',\n",
              " 'data/Model_Output_Dataset/Prefire_Footprint_Detection/predicted_byFire/poly/Camp_PredictedBuildings.geojson',\n",
              " 'data/Model_Output_Dataset/Prefire_Footprint_Detection/predicted_byFire/poly/Carr_PredictedBuildings.geojson',\n",
              " 'data/Model_Output_Dataset/Prefire_Footprint_Detection/predicted_byFire/poly/County_PredictedBuildings.geojson',\n",
              " 'data/Model_Output_Dataset/Prefire_Footprint_Detection/predicted_byFire/poly/Ranch_PredictedBuildings.geojson',\n",
              " 'data/Model_Output_Dataset/Prefire_Footprint_Detection/predicted_byFire/poly/Thomas_PredictedBuildings.geojson']"
            ]
          },
          "metadata": {
            "tags": []
          },
          "execution_count": 11
        }
      ]
    },
    {
      "cell_type": "code",
      "metadata": {
        "id": "mAXO4NNxfZwr",
        "colab_type": "code",
        "colab": {}
      },
      "source": [
        "from shapely.affinity import translate\n",
        "from shapely.geometry import Polygon\n",
        "import geopandas\n",
        "\n",
        "damage_gdb = gpd.read_file('data/All_Incidents_2013_2019_DINS_GDB/All_Incidents_2013_2019_DINS_GDB/All_Incidents_2013_2019_DINS_GDB.gdb')\n",
        "\n",
        "for poly in predicted_lst[-7:]: \n",
        "  # Get the filename only from the initial file path.\n",
        "  filename = os.path.basename(poly)\n",
        "  fire_nm = filename.split('_')[0]\n",
        "\n",
        "  # get only damage points based on fire name, keep only damage attribute \n",
        "  damage_lyer = damage_gdb[damage_gdb['INCIDENTNAME'] == fire_nm]\n",
        "  damage_lyer = damage_lyer[['DAMAGE', 'geometry']]\n",
        "      \n",
        "  print(filename, fire_nm)\n",
        "\n",
        "  predicted_buildings = gpd.read_file(poly)\n",
        "  print('checking crs...')\n",
        "  predicted_buildings = predicted_buildings.to_crs(damage_gdb.crs) \n",
        "  \n",
        "  print('buffering geometries...')\n",
        "  poly_buff = predicted_buildings.buffer(0.5)\n",
        "  damage_lyer['geometry'] = damage_lyer.geometry.buffer(10)\n",
        "  \n",
        "  print('dissolving overlaping geometries...')\n",
        "  geoms = poly_buff.geometry.unary_union\n",
        "  print('recreating new multipoly geometries...')\n",
        "  df = gpd.GeoDataFrame(geometry=[geoms])\n",
        "  geoms_multi = df.geometry.explode().reset_index()\n",
        "  geoms_multi = geoms_multi.set_crs(damage_gdb.crs)\n",
        "\n",
        "  print('spatial joining...')\n",
        "  poly_dam = gpd.sjoin(geoms_multi, damage_lyer, how=\"left\", op='intersects')\n",
        "  poly_dam['INCIDENTNAME'] = fire_nm\n",
        "  \n",
        "  # where 'damage is null change to 'No Damage' \n",
        "  poly_dam = poly_dam.fillna(value={'DAMAGE':'No Damage'}).drop(columns=['level_1', 'level_0', 'index_right'])\n",
        "\n",
        "  print('saving file...')\n",
        "  poly_dam.to_file(os.path.join('data/Model_Output_Dataset/Prefire_Footprint_Detection/predicted_byFire/poly_attr', filename), driver='GeoJSON')"
      ],
      "execution_count": null,
      "outputs": []
    },
    {
      "cell_type": "code",
      "metadata": {
        "id": "JAxFPP-sfaIb",
        "colab_type": "code",
        "colab": {}
      },
      "source": [
        "maploc = folium.Map(location=[38.391934, -122.230672],zoom_start=12,tiles=\"Stamen Toner\")\n",
        "\n",
        "folium.GeoJson(\n",
        "    poly_buff,\n",
        "    style_function=lambda feature: {\n",
        "        'fillColor': '#ffdecf',\n",
        "          'color' : '#900d0d',\n",
        "          'weight' : 1,\n",
        "          'fillOpacity' : 0.5\n",
        "        }\n",
        "    ).add_to(maploc)\n",
        "\n",
        "maploc"
      ],
      "execution_count": null,
      "outputs": []
    },
    {
      "cell_type": "code",
      "metadata": {
        "id": "Y0t-5La1irvH",
        "colab_type": "code",
        "colab": {}
      },
      "source": [
        "poly_dam"
      ],
      "execution_count": null,
      "outputs": []
    },
    {
      "cell_type": "markdown",
      "metadata": {
        "id": "cVC1NdWZ3gZN",
        "colab_type": "text"
      },
      "source": [
        "## Merged all predicted w/ attributes "
      ]
    },
    {
      "cell_type": "code",
      "metadata": {
        "id": "OmVi7rHq3l9z",
        "colab_type": "code",
        "colab": {
          "base_uri": "https://localhost:8080/",
          "height": 51
        },
        "outputId": "495b9c3a-5844-4ac7-a604-ec3796620269"
      },
      "source": [
        "poly_list = lstFiles('data/Model_Output_Dataset/Prefire_Footprint_Detection/predicted_byFire/poly_attr', '.geojson')\n",
        "poly1 = gpd.read_file(poly_list[0])\n",
        "poly2 = gpd.read_file(poly_list[1])\n",
        "merged = poly1.append(poly2)\n",
        "for i, poly in enumerate(poly_list[2:]):\n",
        "  poly3 = gpd.read_file(poly_list[i])\n",
        "  merged = merged.append(poly3)\n",
        "merged.to_file(f\"data/Model_Output_Dataset/Prefire_Footprint_Detection/predicted_byFire/poly_attr_all/PredictedBuildings_attr.shp\")"
      ],
      "execution_count": null,
      "outputs": [
        {
          "output_type": "stream",
          "text": [
            "/usr/local/lib/python3.6/dist-packages/ipykernel_launcher.py:8: UserWarning: Column names longer than 10 characters will be truncated when saved to ESRI Shapefile.\n",
            "  \n"
          ],
          "name": "stderr"
        }
      ]
    },
    {
      "cell_type": "code",
      "metadata": {
        "id": "uKi8hzpDP6OU",
        "colab_type": "code",
        "colab": {
          "base_uri": "https://localhost:8080/",
          "height": 51
        },
        "outputId": "7cabbdcd-8781-47ca-8cbb-095dcc034eff"
      },
      "source": [
        "import numpy as np\n",
        "merged['class'] = np.where(merged['DAMAGE']=='No Damage', 0, 1)\n",
        "merged.to_file(f\"data/Model_Output_Dataset/Prefire_Footprint_Detection/predicted_byFire/poly_attr_all/PredictedBuildings_attr.shp\")"
      ],
      "execution_count": null,
      "outputs": [
        {
          "output_type": "stream",
          "text": [
            "/usr/local/lib/python3.6/dist-packages/ipykernel_launcher.py:3: UserWarning: Column names longer than 10 characters will be truncated when saved to ESRI Shapefile.\n",
            "  This is separate from the ipykernel package so we can avoid doing imports until\n"
          ],
          "name": "stderr"
        }
      ]
    },
    {
      "cell_type": "markdown",
      "metadata": {
        "id": "ushAiisvB45P",
        "colab_type": "text"
      },
      "source": [
        "### Add into bucket & load to assets"
      ]
    },
    {
      "cell_type": "code",
      "metadata": {
        "id": "bL9LUT36B4J4",
        "colab_type": "code",
        "colab": {}
      },
      "source": [
        "! gsutil -m cp -R 'data/Model_Output_Dataset/Prefire_Footprint_Detection/predicted_byFire/poly_attr_all/' gs://buildingassessment"
      ],
      "execution_count": null,
      "outputs": []
    },
    {
      "cell_type": "code",
      "metadata": {
        "id": "e_flNFxQCI0k",
        "colab_type": "code",
        "colab": {}
      },
      "source": [
        "! earthengine upload table --asset_id=users/escaduto/BuildingAssessment/PredictedFootprints_attr gs://buildingassessment/poly_attr_all/PredictedBuildings_attr.shp"
      ],
      "execution_count": null,
      "outputs": []
    },
    {
      "cell_type": "markdown",
      "metadata": {
        "id": "lCDJuXZHnJP3",
        "colab_type": "text"
      },
      "source": [
        "## POST-FIRE NAIP\n",
        "Get NAIP based on incident date"
      ]
    },
    {
      "cell_type": "code",
      "metadata": {
        "id": "9P_WfKSZNbJ4",
        "colab_type": "code",
        "colab": {}
      },
      "source": [
        "# initialize and connect to GEE \n",
        "from google.colab import auth\n",
        "auth.authenticate_user()\n",
        "!earthengine authenticate\n",
        "import ee \n",
        "ee.Initialize()"
      ],
      "execution_count": null,
      "outputs": []
    },
    {
      "cell_type": "code",
      "metadata": {
        "id": "OaUQbtDpNbPB",
        "colab_type": "code",
        "colab": {}
      },
      "source": [
        "# Installs geemap package\n",
        "import subprocess\n",
        "\n",
        "try:\n",
        "    import geemap\n",
        "except ImportError:\n",
        "    print('geemap package not installed. Installing ...')\n",
        "    subprocess.check_call([\"python\", '-m', 'pip', 'install', 'geemap'])\n",
        "\n",
        "# Checks whether this notebook is running on Google Colab\n",
        "try:\n",
        "    import google.colab\n",
        "    import geemap.eefolium as emap\n",
        "except:\n",
        "    import geemap as emap"
      ],
      "execution_count": null,
      "outputs": []
    },
    {
      "cell_type": "code",
      "metadata": {
        "id": "iukjyq6ZrouE",
        "colab_type": "code",
        "colab": {}
      },
      "source": [
        "import pandas as pd\n",
        "combined_csv = pd.read_csv(\"data/Model_Output_Dataset/Prefire_Footprint_Detection/predicted_byFire/combined_csvEval.csv\")\n",
        "combined_csv"
      ],
      "execution_count": null,
      "outputs": []
    },
    {
      "cell_type": "code",
      "metadata": {
        "id": "dfMGflXOsucp",
        "colab_type": "code",
        "colab": {}
      },
      "source": [
        "filt_by_score = combined_csv[(combined_csv['Precision'] > 0.5) & (combined_csv['Year'] < 2019)]\n",
        "#list(zip(filt_by_score['Fire'], filt_by_score['Year']))"
      ],
      "execution_count": null,
      "outputs": []
    },
    {
      "cell_type": "code",
      "metadata": {
        "id": "Wu8R8qMgPx9c",
        "colab_type": "code",
        "colab": {}
      },
      "source": [
        "fire_list = ['Atlas',\n",
        " 'Boles',\n",
        " 'Canyon',\n",
        " 'Canyon_2',\n",
        " 'Carr',\n",
        " 'Cascade',\n",
        " 'Chimney',\n",
        " 'Clayton',\n",
        " 'Clover',\n",
        " 'Creek',\n",
        " 'Detwiler',\n",
        " 'Erskine',\n",
        " 'Helena',\n",
        " 'Holiday',\n",
        " 'Holy',\n",
        " 'Klamathon',\n",
        " 'Laporte',\n",
        " 'Laverne',\n",
        " 'Lilac',\n",
        " 'Lobo',\n",
        " 'Mission',\n",
        " 'Nuns',\n",
        " 'Pawnee',\n",
        " 'Pocket',\n",
        " 'Redwood',\n",
        " 'Round',\n",
        " 'Silver',\n",
        " 'Skirball',\n",
        " 'Stoll',\n",
        " 'Sulphur',\n",
        " 'Thomas',\n",
        " 'Tubbs',\n",
        " 'Valley',\n",
        " 'Vista',\n",
        " 'Wall',\n",
        " 'West']"
      ],
      "execution_count": null,
      "outputs": []
    },
    {
      "cell_type": "code",
      "metadata": {
        "id": "7jiJZmCUGy6b",
        "colab_type": "code",
        "colab": {
          "base_uri": "https://localhost:8080/",
          "height": 34
        },
        "outputId": "bd196aec-221e-43ed-d5a1-8b0afb53d6a8"
      },
      "source": [
        "len(fire_list) # get bounds and incident dates based on these fire list"
      ],
      "execution_count": null,
      "outputs": [
        {
          "output_type": "execute_result",
          "data": {
            "text/plain": [
              "36"
            ]
          },
          "metadata": {
            "tags": []
          },
          "execution_count": 10
        }
      ]
    },
    {
      "cell_type": "code",
      "metadata": {
        "id": "xd_EAI2mGz8W",
        "colab_type": "code",
        "colab": {}
      },
      "source": [
        "import geopandas as gpd\n",
        "outpath = os.path.join('data', 'boundingbox_byfire')\n",
        "bounds_gdf = gpd.read_file(os.path.join(outpath, 'boundingbox_byfire.geojson'), driver='GeoJSON')"
      ],
      "execution_count": null,
      "outputs": []
    },
    {
      "cell_type": "code",
      "metadata": {
        "id": "SIE53XZIM1oe",
        "colab_type": "code",
        "colab": {
          "base_uri": "https://localhost:8080/",
          "height": 111
        },
        "outputId": "14fa48ae-b852-46c3-9a67-8f220b1133dd"
      },
      "source": [
        "fire_bounds = bounds_gdf[bounds_gdf['Fire'].isin(fire_list)]\n",
        "fire_bounds[fire_bounds['Year'] == 2013]"
      ],
      "execution_count": null,
      "outputs": [
        {
          "output_type": "execute_result",
          "data": {
            "text/html": [
              "<div>\n",
              "<style scoped>\n",
              "    .dataframe tbody tr th:only-of-type {\n",
              "        vertical-align: middle;\n",
              "    }\n",
              "\n",
              "    .dataframe tbody tr th {\n",
              "        vertical-align: top;\n",
              "    }\n",
              "\n",
              "    .dataframe thead th {\n",
              "        text-align: right;\n",
              "    }\n",
              "</style>\n",
              "<table border=\"1\" class=\"dataframe\">\n",
              "  <thead>\n",
              "    <tr style=\"text-align: right;\">\n",
              "      <th></th>\n",
              "      <th>Fire</th>\n",
              "      <th>Year</th>\n",
              "      <th>Incident_dt</th>\n",
              "      <th>Building_cnt</th>\n",
              "      <th>geometry</th>\n",
              "    </tr>\n",
              "  </thead>\n",
              "  <tbody>\n",
              "    <tr>\n",
              "      <th>14</th>\n",
              "      <td>Clover</td>\n",
              "      <td>2013.0</td>\n",
              "      <td>9/9/2013</td>\n",
              "      <td>65</td>\n",
              "      <td>POLYGON ((-122.53872 40.44418, -122.49728 40.4...</td>\n",
              "    </tr>\n",
              "    <tr>\n",
              "      <th>57</th>\n",
              "      <td>Silver</td>\n",
              "      <td>2013.0</td>\n",
              "      <td>8/7/2013</td>\n",
              "      <td>24</td>\n",
              "      <td>POLYGON ((-116.86280 33.84860, -116.82264 33.8...</td>\n",
              "    </tr>\n",
              "  </tbody>\n",
              "</table>\n",
              "</div>"
            ],
            "text/plain": [
              "      Fire  ...                                           geometry\n",
              "14  Clover  ...  POLYGON ((-122.53872 40.44418, -122.49728 40.4...\n",
              "57  Silver  ...  POLYGON ((-116.86280 33.84860, -116.82264 33.8...\n",
              "\n",
              "[2 rows x 5 columns]"
            ]
          },
          "metadata": {
            "tags": []
          },
          "execution_count": 12
        }
      ]
    },
    {
      "cell_type": "code",
      "metadata": {
        "id": "3hIDEpz4TpYY",
        "colab_type": "code",
        "colab": {
          "base_uri": "https://localhost:8080/",
          "height": 51
        },
        "outputId": "b78c445d-aafd-478b-9a02-b0d77723c105"
      },
      "source": [
        "for i in range(2013, 2018+1):\n",
        "  boundsby_year = fire_bounds[fire_bounds['Year'] == i]\n",
        "  outpath = createFolder('data/boundingbox_byyear', f'boundingbox_{str(i)}')\n",
        "  boundsby_year.to_file(os.path.join(outpath, f'boundingbox_{str(i)}.shp'))"
      ],
      "execution_count": null,
      "outputs": [
        {
          "output_type": "stream",
          "text": [
            "/usr/local/lib/python3.6/dist-packages/ipykernel_launcher.py:4: UserWarning: Column names longer than 10 characters will be truncated when saved to ESRI Shapefile.\n",
            "  after removing the cwd from sys.path.\n"
          ],
          "name": "stderr"
        }
      ]
    },
    {
      "cell_type": "code",
      "metadata": {
        "id": "Omn5x960NbTD",
        "colab_type": "code",
        "colab": {}
      },
      "source": [
        "# Connect to google cloud \n",
        "! gcloud auth login"
      ],
      "execution_count": null,
      "outputs": []
    },
    {
      "cell_type": "code",
      "metadata": {
        "id": "VEM8T-NwVjVB",
        "colab_type": "code",
        "colab": {}
      },
      "source": [
        "! gsutil -m cp -R 'data/boundingbox_byyear/boundingbox_2018' gs://buildingassessment/boundingbox_byyear\n",
        "! gsutil -m cp -R 'data/boundingbox_byyear/boundingbox_2017' gs://buildingassessment/boundingbox_byyear\n",
        "! gsutil -m cp -R 'data/boundingbox_byyear/boundingbox_2016' gs://buildingassessment/boundingbox_byyear\n",
        "! gsutil -m cp -R 'data/boundingbox_byyear/boundingbox_2015' gs://buildingassessment/boundingbox_byyear\n",
        "! gsutil -m cp -R 'data/boundingbox_byyear/boundingbox_2014' gs://buildingassessment/boundingbox_byyear\n",
        "! gsutil -m cp -R 'data/boundingbox_byyear/boundingbox_2013' gs://buildingassessment/boundingbox_byyear"
      ],
      "execution_count": null,
      "outputs": []
    },
    {
      "cell_type": "code",
      "metadata": {
        "id": "meTEyPu5Vv1P",
        "colab_type": "code",
        "colab": {}
      },
      "source": [
        "! gsutil ls gs://buildingassessment/boundingbox_byyear"
      ],
      "execution_count": null,
      "outputs": []
    },
    {
      "cell_type": "code",
      "metadata": {
        "id": "KRQVo6SlNjuU",
        "colab_type": "code",
        "colab": {}
      },
      "source": [
        "# export files hosted in cloud bucket as assets to GEE \n",
        "# needed to set up a bucket in google cloud: gs://esca_bucket\n",
        "! earthengine upload table --asset_id=users/escaduto/BuildingAssessment/boundingbox_2018 gs://buildingassessment/boundingbox_byyear/boundingbox_2018/boundingbox_2018.shp\n",
        "! earthengine upload table --asset_id=users/escaduto/BuildingAssessment/boundingbox_2017 gs://buildingassessment/boundingbox_byyear/boundingbox_2017/boundingbox_2017.shp\n",
        "! earthengine upload table --asset_id=users/escaduto/BuildingAssessment/boundingbox_2016 gs://buildingassessment/boundingbox_byyear/boundingbox_2016/boundingbox_2016.shp\n",
        "! earthengine upload table --asset_id=users/escaduto/BuildingAssessment/boundingbox_2015 gs://buildingassessment/boundingbox_byyear/boundingbox_2015/boundingbox_2015.shp\n",
        "! earthengine upload table --asset_id=users/escaduto/BuildingAssessment/boundingbox_2014 gs://buildingassessment/boundingbox_byyear/boundingbox_2014/boundingbox_2014.shp\n",
        "! earthengine upload table --asset_id=users/escaduto/BuildingAssessment/boundingbox_2013 gs://buildingassessment/boundingbox_byyear/boundingbox_2013/boundingbox_2013.shp"
      ],
      "execution_count": null,
      "outputs": []
    },
    {
      "cell_type": "code",
      "metadata": {
        "id": "R7eUf89nNkvK",
        "colab_type": "code",
        "colab": {}
      },
      "source": [
        "# import feature collection asset \n",
        "bounds_2018 = ee.FeatureCollection('users/escaduto/BuildingAssessment/boundingbox_2018')\n",
        "bounds_2017 = ee.FeatureCollection('users/escaduto/BuildingAssessment/boundingbox_2017')\n",
        "bounds_2016 = ee.FeatureCollection('users/escaduto/BuildingAssessment/boundingbox_2016')\n",
        "bounds_2015 = ee.FeatureCollection('users/escaduto/BuildingAssessment/boundingbox_2015')\n",
        "bounds_2014 = ee.FeatureCollection('users/escaduto/BuildingAssessment/boundingbox_2014')\n",
        "bounds_2013 = ee.FeatureCollection('users/escaduto/BuildingAssessment/boundingbox_2013')"
      ],
      "execution_count": null,
      "outputs": []
    },
    {
      "cell_type": "code",
      "metadata": {
        "id": "ngZ3-3E1IHVE",
        "colab_type": "code",
        "colab": {}
      },
      "source": [
        "features = [#bounds_2018, bounds_2017, bounds_2016, bounds_2015, bounds_2014, bounds_2013\n",
        "  ee.Feature(bounds_2018.geometry()),\n",
        "  ee.Feature(bounds_2017.geometry()),\n",
        "  ee.Feature(bounds_2016.geometry()),\n",
        "  ee.Feature(bounds_2015.geometry()),\n",
        "  ee.Feature(bounds_2014.geometry()),\n",
        "  ee.Feature(bounds_2013.geometry()),\n",
        "]\n",
        "\n",
        "finalBounds = ee.FeatureCollection(features);"
      ],
      "execution_count": null,
      "outputs": []
    },
    {
      "cell_type": "code",
      "metadata": {
        "id": "cJQ9EbbGP-Tw",
        "colab_type": "code",
        "colab": {}
      },
      "source": [
        "rootPath = '/content/drive/My Drive/BuildingDamage_Model'\n",
        "\n",
        "def getPostFireNAIP(year, featurecollection, bounds_gdf_input):\n",
        "  # convert incident dt to datetime to access month, day, year\n",
        "  df = fire_bounds[fire_bounds['Year'] == year]\n",
        "  df['Incident_dt'] = pd.to_datetime(df['Incident_dt'], format='%m/%d/%Y')\n",
        "  # get earliest date \n",
        "  maxDate = max(df['Incident_dt'])\n",
        "  os.chdir(rootPath)\n",
        "  #firenm = minDate.Fire\n",
        "  fireyr = maxDate.year\n",
        "  firedt = maxDate\n",
        "  startYr = str(fireyr)[:4]\n",
        "  startMth = str(maxDate.month)\n",
        "  startDy = str(maxDate.day)\n",
        "  endYr = str(fireyr+3)[:4]\n",
        "  #new_gdf = gpd.GeoDataFrame(bounds_gdf_input, crs='EPSG:4326', geometry= 'geometry')\n",
        "  #bounds = get_bounds(new_gdf)\n",
        "  #Bound_Box = ee.Geometry.Polygon(bounds_gdf_input)\n",
        "  print(f'{startYr}-{startMth}-{startDy}', f'{endYr}-12-31')\n",
        "  postFire = ee.Image(ee.ImageCollection('USDA/NAIP/DOQQ')\n",
        "                  .filter(ee.Filter.date(f'{startYr}-{startMth}-{startDy}', f'{endYr}-12-31'))\n",
        "                  .select(['R', 'G', 'B', 'N'])\n",
        "                  .filterBounds(featurecollection)\n",
        "                  .mosaic());\n",
        "\n",
        "  postFire = postFire.clip(featurecollection)\n",
        "\n",
        "  return postFire"
      ],
      "execution_count": null,
      "outputs": []
    },
    {
      "cell_type": "code",
      "metadata": {
        "id": "uYlCvx8Jq7rK",
        "colab_type": "code",
        "colab": {
          "base_uri": "https://localhost:8080/",
          "height": 221
        },
        "outputId": "1f8577ac-a2ed-4db3-b530-41bf2e7abb02"
      },
      "source": [
        "postfire_2018 = getPostFireNAIP(2018, bounds_2018, fire_bounds)\n",
        "postfire_2017 = getPostFireNAIP(2017, bounds_2017, fire_bounds)\n",
        "postfire_2016 = getPostFireNAIP(2016, bounds_2016, fire_bounds)\n",
        "postfire_2015 = getPostFireNAIP(2015, bounds_2015, fire_bounds)\n",
        "postfire_2014 = getPostFireNAIP(2014, bounds_2014, fire_bounds)\n",
        "postfire_2013 = getPostFireNAIP(2013, bounds_2013, fire_bounds)"
      ],
      "execution_count": null,
      "outputs": [
        {
          "output_type": "stream",
          "text": [
            "2018-8-6 2021-12-31\n",
            "2017-12-7 2020-12-31\n",
            "2016-8-13 2019-12-31\n",
            "2015-9-12 2018-12-31\n",
            "2014-9-15 2017-12-31\n",
            "2013-9-9 2016-12-31\n"
          ],
          "name": "stdout"
        },
        {
          "output_type": "stream",
          "text": [
            "/usr/local/lib/python3.6/dist-packages/geopandas/geodataframe.py:849: SettingWithCopyWarning: \n",
            "A value is trying to be set on a copy of a slice from a DataFrame.\n",
            "Try using .loc[row_indexer,col_indexer] = value instead\n",
            "\n",
            "See the caveats in the documentation: https://pandas.pydata.org/pandas-docs/stable/user_guide/indexing.html#returning-a-view-versus-a-copy\n",
            "  super(GeoDataFrame, self).__setitem__(key, value)\n"
          ],
          "name": "stderr"
        }
      ]
    },
    {
      "cell_type": "markdown",
      "metadata": {
        "id": "yjmqjF5mNSZN",
        "colab_type": "text"
      },
      "source": [
        "## PRE-FIRE NAIP"
      ]
    },
    {
      "cell_type": "code",
      "metadata": {
        "id": "mBGLfO7WN7zc",
        "colab_type": "code",
        "colab": {}
      },
      "source": [
        "rootPath = '/content/drive/My Drive/BuildingDamage_Model'\n",
        "\n",
        "def getPreFireNAIP(year, featurecollection, bounds_gdf_input):\n",
        "  # convert incident dt to datetime to access month, day, year\n",
        "  df = fire_bounds[fire_bounds['Year'] == year]\n",
        "  df['Incident_dt'] = pd.to_datetime(df['Incident_dt'], format='%m/%d/%Y')\n",
        "  # get earliest date \n",
        "  maxDate = max(df['Incident_dt'])\n",
        "  os.chdir(rootPath)\n",
        "  #firenm = minDate.Fire\n",
        "  fireyr = maxDate.year\n",
        "  firedt = maxDate\n",
        "  endYr = str(fireyr)[:4]\n",
        "  endMth = str(maxDate.month).zfill(2)\n",
        "  endDy = str(maxDate.day)\n",
        "  startYr = str(fireyr-3)[:4]\n",
        "  #new_gdf = gpd.GeoDataFrame(bounds_gdf_input, crs='EPSG:4326', geometry= 'geometry')\n",
        "  #bounds = get_bounds(new_gdf)\n",
        "  #Bound_Box = ee.Geometry.Polygon(bounds_gdf_input)\n",
        "  print(f'{startYr}-01-01', f'{endYr}-{endMth}-{endYr}')\n",
        "  preFire = ee.Image(ee.ImageCollection('USDA/NAIP/DOQQ')\n",
        "                  .filter(ee.Filter.date(f'{startYr}-01-01', f'{endYr}-{endMth}-{endDy}'))\n",
        "                  .select(['R', 'G', 'B', 'N'])\n",
        "                  .filterBounds(featurecollection)\n",
        "                  .mosaic());\n",
        "\n",
        "  preFire = preFire.clip(featurecollection)\n",
        "\n",
        "  return preFire"
      ],
      "execution_count": null,
      "outputs": []
    },
    {
      "cell_type": "code",
      "metadata": {
        "id": "N15AJbTUOm8G",
        "colab_type": "code",
        "colab": {
          "base_uri": "https://localhost:8080/",
          "height": 221
        },
        "outputId": "ecfb6479-7ef3-4c99-997d-6a9be56cff83"
      },
      "source": [
        "prefire_2018 = getPreFireNAIP(2018, bounds_2018, fire_bounds)\n",
        "prefire_2017 = getPreFireNAIP(2017, bounds_2017, fire_bounds)\n",
        "prefire_2016 = getPreFireNAIP(2016, bounds_2016, fire_bounds)\n",
        "prefire_2015 = getPreFireNAIP(2015, bounds_2015, fire_bounds)\n",
        "prefire_2014 = getPreFireNAIP(2014, bounds_2014, fire_bounds)\n",
        "prefire_2013 = getPreFireNAIP(2013, bounds_2013, fire_bounds)"
      ],
      "execution_count": null,
      "outputs": [
        {
          "output_type": "stream",
          "text": [
            "2015-01-01 2018-08-2018\n",
            "2014-01-01 2017-12-2017\n",
            "2013-01-01 2016-08-2016\n",
            "2012-01-01 2015-09-2015\n",
            "2011-01-01 2014-09-2014\n",
            "2010-01-01 2013-09-2013\n"
          ],
          "name": "stdout"
        },
        {
          "output_type": "stream",
          "text": [
            "/usr/local/lib/python3.6/dist-packages/geopandas/geodataframe.py:849: SettingWithCopyWarning: \n",
            "A value is trying to be set on a copy of a slice from a DataFrame.\n",
            "Try using .loc[row_indexer,col_indexer] = value instead\n",
            "\n",
            "See the caveats in the documentation: https://pandas.pydata.org/pandas-docs/stable/user_guide/indexing.html#returning-a-view-versus-a-copy\n",
            "  super(GeoDataFrame, self).__setitem__(key, value)\n"
          ],
          "name": "stderr"
        }
      ]
    },
    {
      "cell_type": "markdown",
      "metadata": {
        "id": "b6baj0EqRYR6",
        "colab_type": "text"
      },
      "source": [
        "## Visualize Predicted over post-fire NAIP"
      ]
    },
    {
      "cell_type": "code",
      "metadata": {
        "id": "H7cd5Ch8CcDg",
        "colab_type": "code",
        "colab": {}
      },
      "source": [
        "predicted_poly = ee.FeatureCollection('users/escaduto/BuildingAssessment/PredictedFootprints_attr')"
      ],
      "execution_count": null,
      "outputs": []
    },
    {
      "cell_type": "code",
      "metadata": {
        "id": "qhN9MxwlCyqq",
        "colab_type": "code",
        "colab": {}
      },
      "source": [
        "def visualizeByAttribute(fc, className): \n",
        "  '''\n",
        "  visualize building polygon based on damage type 'class' (0,1) \n",
        "  '''   \n",
        "  empty = ee.Image().byte()\n",
        "  feature = empty.paint(**{\n",
        "    'featureCollection': fc,\n",
        "    'color': className,\n",
        "    'width': 2\n",
        "  })\n",
        "  return feature\n",
        "\n",
        "train_palette = ['green', # no-damage (0)\n",
        "                 'red' # destroyed (1) \n",
        "                 ]"
      ],
      "execution_count": null,
      "outputs": []
    },
    {
      "cell_type": "code",
      "metadata": {
        "id": "Z2CFLcves-c1",
        "colab_type": "code",
        "colab": {}
      },
      "source": [
        "# mosaic post-fire naip \n",
        "collection_postfire = ee.ImageCollection([postfire_2018 , postfire_2017 , postfire_2016 , postfire_2015, postfire_2014 , postfire_2013])\n",
        "collection_prefire = ee.ImageCollection([prefire_2018 , prefire_2017 , prefire_2016 , prefire_2015, prefire_2014 , prefire_2013])\n",
        "\n",
        "naip_postfire = collection_postfire.mosaic();\n",
        "naip_prefire = collection_prefire.mosaic();"
      ],
      "execution_count": null,
      "outputs": []
    },
    {
      "cell_type": "code",
      "metadata": {
        "id": "WDa-BB7R5Bmi",
        "colab_type": "code",
        "colab": {
          "base_uri": "https://localhost:8080/",
          "height": 838
        },
        "outputId": "2f5058b6-5db2-4332-ca9c-374c43725621"
      },
      "source": [
        "Map = emap.Map(center=[38.4815,-122.7084], zoom=11)\n",
        "Map.addLayer(naip_postfire.select(['R', 'G', 'B']), trueColorVis, 'postfire')\n",
        "Map.addLayer(naip_prefire.select(['R', 'G', 'B']), trueColorVis, 'prefire')\n",
        "Map.addLayer(visualizeByAttribute(predicted_poly, 'class'), {'palette': train_palette, 'min': 0, 'max':1}, 'predicted_poly')\n",
        "Map.addLayer(bounds_2018, {'color': 'white'}, 'bound', True, opacity=0.4)\n",
        "Map.addLayerControl()\n",
        "Map"
      ],
      "execution_count": null,
      "outputs": [
        {
          "output_type": "execute_result",
          "data": {
            "text/html": [
              "<div style=\"width:100%;\"><div style=\"position:relative;width:100%;height:0;padding-bottom:60%;\"><span style=\"color:#565656\">Make this Notebook Trusted to load map: File -> Trust Notebook</span><iframe src=\"about:blank\" style=\"position:absolute;width:100%;height:100%;left:0;top:0;border:none !important;\" data-html=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 onload=\"this.contentDocument.open();this.contentDocument.write(atob(this.getAttribute('data-html')));this.contentDocument.close();\" allowfullscreen webkitallowfullscreen mozallowfullscreen></iframe></div></div>"
            ],
            "text/plain": [
              "<geemap.eefolium.Map at 0x7fcaa7a5bb00>"
            ]
          },
          "metadata": {
            "tags": []
          },
          "execution_count": 183
        }
      ]
    },
    {
      "cell_type": "markdown",
      "metadata": {
        "id": "JsOB0TIgWIVq",
        "colab_type": "text"
      },
      "source": [
        "## Feature Calculation\n",
        "\n",
        "(1) NDVI: (NIR-R)/(NIR+R)\n",
        "\n",
        "(2) Canny edge detection to extract structural information from different vision objects and dramatically reduce the amount of data to be processed. \n",
        "\n",
        "(3) Bare Soil Index: (R+B-G)/(R+G+B)\n",
        "\n",
        "(4) Shadow Index: $\\sqrt {(256-B)*(256-G)}$\n",
        "\n",
        "(5) Texture Information: GLCM & spatial association of neighborhood\n",
        "\n",
        "(6)  Convolutional filters"
      ]
    },
    {
      "cell_type": "markdown",
      "metadata": {
        "id": "gvBtF2Y7gwmP",
        "colab_type": "text"
      },
      "source": [
        "###NDVI"
      ]
    },
    {
      "cell_type": "code",
      "metadata": {
        "id": "drQUhnMrWNqa",
        "colab_type": "code",
        "colab": {
          "base_uri": "https://localhost:8080/",
          "height": 34
        },
        "outputId": "109b7785-cb74-4f32-b91f-1594e63844d8"
      },
      "source": [
        "def getNDVI(image):\n",
        "  '''\n",
        "  Add Normalized Differenced Vegetation Index using NIR and Red bands\n",
        "  '''\n",
        "  nir = image.select('N')\n",
        "  red = image.select('R')\n",
        "  ndvi = nir.subtract(red).divide(nir.add(red)).rename('NDVI')\n",
        "  new_image = image.addBands(ndvi)\n",
        "  return new_image\n",
        "\n",
        "postFire = getNDVI(naip_postfire)\n",
        "print(postFire.bandNames().getInfo())"
      ],
      "execution_count": null,
      "outputs": [
        {
          "output_type": "stream",
          "text": [
            "['R', 'G', 'B', 'N', 'NDVI']\n"
          ],
          "name": "stdout"
        }
      ]
    },
    {
      "cell_type": "markdown",
      "metadata": {
        "id": "fjmPvRbigy7m",
        "colab_type": "text"
      },
      "source": [
        "### Edge Detection"
      ]
    },
    {
      "cell_type": "code",
      "metadata": {
        "id": "DwxEMDN8WXmw",
        "colab_type": "code",
        "colab": {
          "base_uri": "https://localhost:8080/",
          "height": 34
        },
        "outputId": "ea89dca0-dbad-44bf-bae3-fb97467970b8"
      },
      "source": [
        "def edgeDetection(image, band):\n",
        "  '''\n",
        "  Perform Canny edge detection and add to image.\n",
        "  '''\n",
        "  canny = ee.Algorithms.CannyEdgeDetector(**{\n",
        "    'image': image.select(band), 'threshold': 50, 'sigma': 1\n",
        "  })\n",
        "  new_image = image.addBands(canny.rename('edge'))\n",
        "  return new_image\n",
        "\n",
        "\n",
        "\n",
        "postFire = edgeDetection(postFire, 'R')\n",
        "print(postFire.bandNames().getInfo())"
      ],
      "execution_count": null,
      "outputs": [
        {
          "output_type": "stream",
          "text": [
            "['R', 'G', 'B', 'N', 'NDVI', 'edge']\n"
          ],
          "name": "stdout"
        }
      ]
    },
    {
      "cell_type": "markdown",
      "metadata": {
        "id": "kPXPkqMHg3io",
        "colab_type": "text"
      },
      "source": [
        "### Bare Soil Index (BSI)"
      ]
    },
    {
      "cell_type": "code",
      "metadata": {
        "id": "JDpc2J9JfkK8",
        "colab_type": "code",
        "colab": {
          "base_uri": "https://localhost:8080/",
          "height": 34
        },
        "outputId": "53b17d2e-330a-4917-f57f-4df11dffab73"
      },
      "source": [
        "def bareSoil(image):\n",
        "  '''\n",
        "  Add Bare Soil Index Index using the Red, Blue, and Green bands\n",
        "  '''\n",
        "  red = image.select('R')\n",
        "  blue = image.select('B')\n",
        "  green = image.select('G')\n",
        "  BSI = red.add(blue).subtract(green).divide(red.add(blue).add(green)).rename('BSI')\n",
        "  new_image = image.addBands(BSI)\n",
        "  return new_image\n",
        "\n",
        "postFire = bareSoil(postFire)\n",
        "print(postFire.bandNames().getInfo())"
      ],
      "execution_count": null,
      "outputs": [
        {
          "output_type": "stream",
          "text": [
            "['R', 'G', 'B', 'N', 'NDVI', 'edge', 'BSI']\n"
          ],
          "name": "stdout"
        }
      ]
    },
    {
      "cell_type": "markdown",
      "metadata": {
        "id": "Q-XrQNeWhqEz",
        "colab_type": "text"
      },
      "source": [
        "### Shadow Index"
      ]
    },
    {
      "cell_type": "code",
      "metadata": {
        "id": "b9_lntEQikdK",
        "colab_type": "code",
        "colab": {
          "base_uri": "https://localhost:8080/",
          "height": 34
        },
        "outputId": "e4a54c3b-3504-420f-d9c0-a205f6b9aa04"
      },
      "source": [
        "def shadowIndex(image):\n",
        "  '''\n",
        "  Add Shadow Index using Blue and Green bands\n",
        "  '''\n",
        "  SI = image.expression(\n",
        "      'sqrt((256 - B) * (256 - G))', {\n",
        "        'B': image.select('B'),\n",
        "        'G': image.select('G')\n",
        "  }).rename('SI');\n",
        "  new_image = image.addBands(SI)\n",
        "  return new_image\n",
        "\n",
        "postFire = shadowIndex(postFire)\n",
        "print(postFire.bandNames().getInfo())"
      ],
      "execution_count": null,
      "outputs": [
        {
          "output_type": "stream",
          "text": [
            "['R', 'G', 'B', 'N', 'NDVI', 'edge', 'BSI', 'SI']\n"
          ],
          "name": "stdout"
        }
      ]
    },
    {
      "cell_type": "markdown",
      "metadata": {
        "id": "w9OQYQ7obT1j",
        "colab_type": "text"
      },
      "source": [
        "### Texture\n",
        "Get texture values with NIR band. \n",
        "  (1) compute entropy w. defined neighborhood, \n",
        "  (2) gray-level co-occurence matrix (GLCM) to get contrast,\n",
        "  (3) local Geary's C, measure of spatial association\n",
        "\n",
        "[  source code](https://github.com/giswqs/earthengine-py-notebooks/blob/master/Image/texture.ipynb)"
      ]
    },
    {
      "cell_type": "code",
      "metadata": {
        "id": "On9ogettbVfZ",
        "colab_type": "code",
        "colab": {
          "base_uri": "https://localhost:8080/",
          "height": 34
        },
        "outputId": "b9563291-9940-45f4-e215-f01ad83fdcf4"
      },
      "source": [
        "import math\n",
        "\n",
        "def texture(image):\n",
        "  ''' \n",
        "  Get texture values with NIR band. \n",
        "  (1) compute entropy w. defined neighborhood, \n",
        "  (2) gray-level co-occurence matrix (GLCM) to get contrast,\n",
        "  (3) local Geary's C, measure of spatial association\n",
        "  '''\n",
        "  # Get the NIR band.\n",
        "  nir = image.select('N')\n",
        "  # Define a neighborhood with a kernel.\n",
        "  square = ee.Kernel.square(**{'radius': 4})\n",
        "  # Compute entropy and display.\n",
        "  entropy = nir.entropy(square)\n",
        "  # Compute the gray-level co-occurrence matrix (GLCM), get contrast.\n",
        "  glcm = nir.glcmTexture(**{'size': 4})\n",
        "  contrast = glcm.select('N_contrast')\n",
        "  # Create a list of weights for a 9x9 kernel.\n",
        "  list = [1, 1, 1, 1, 1, 1, 1, 1, 1]\n",
        "  # The center of the kernel is zero.\n",
        "  centerList = [1, 1, 1, 1, 0, 1, 1, 1, 1]\n",
        "  # Assemble a list of lists: the 9x9 kernel weights as a 2-D matrix.\n",
        "  lists = [list, list, list, list, centerList, list, list, list, list]\n",
        "  # Create the kernel from the weights.\n",
        "  # Non-zero weights represent the spatial neighborhood.\n",
        "  kernel = ee.Kernel.fixed(9, 9, lists, -4, -4, False)\n",
        "\n",
        "  # Convert the neighborhood into multiple bands.\n",
        "  neighs = nir.neighborhoodToBands(kernel)\n",
        "\n",
        "  # Compute local Geary's C, a measure of spatial association.\n",
        "  gearys = nir.subtract(neighs).pow(2).reduce(ee.Reducer.sum()) \\\n",
        "             .divide(math.pow(9, 2)).rename('texture');\n",
        "  new_image = image.addBands(gearys)\n",
        "  return new_image\n",
        "\n",
        "postFire = texture(postFire)\n",
        "print(postFire.bandNames().getInfo())"
      ],
      "execution_count": null,
      "outputs": [
        {
          "output_type": "stream",
          "text": [
            "['R', 'G', 'B', 'N', 'NDVI', 'edge', 'BSI', 'SI', 'texture']\n"
          ],
          "name": "stdout"
        }
      ]
    },
    {
      "cell_type": "markdown",
      "metadata": {
        "id": "dOzeX7HP3bAn",
        "colab_type": "text"
      },
      "source": [
        "### GLCM Texture\n",
        "\n",
        "GLCM Texture list (selection in bold):\n",
        "- Angular Second Moment: # of repeated pairs\n",
        "- **Contrast**: local contrast \n",
        "- **Correlation**: correlation between pairs of pixels \n",
        "- **Variance**: spreat-out of the Grayscale \n",
        "-**Inverse Difference Moment**: homogeneity\n",
        "- sum average\n",
        "- sum variance\n",
        "- sum entropy\n",
        "- entropy: randomness of the grayscale\n",
        "- difference variance\n",
        "- difference entropy\n",
        "- information measure of correlation 1, 2 , and Max Corr. Coefficient.\n",
        "- **dissimilarity**\n",
        "- inertia\n",
        "- **cluster shade**\n",
        "- cluster prominence"
      ]
    },
    {
      "cell_type": "code",
      "metadata": {
        "id": "JMTtoBYz3aQO",
        "colab_type": "code",
        "colab": {}
      },
      "source": [
        "def glcm_texture(image):\n",
        "    '''\n",
        "    add some texture calculations for each spectral band (contrast and variance only for NIR and Red band)\n",
        "    '''\n",
        "    #average the directional bands\n",
        "    #consider a neighborhood of 4 pixels\n",
        "    texture_img=image.select(['R','G','B','N']).glcmTexture(size=4,average=True)\n",
        "    #select some useful textures :\n",
        "    selection=['N_corr','N_var', 'B_shade','N_shade']\n",
        "    new_image = image.addBands(texture_img.select(selection))\n",
        "    return new_image"
      ],
      "execution_count": null,
      "outputs": []
    },
    {
      "cell_type": "code",
      "metadata": {
        "id": "lI_5RvIM3jXZ",
        "colab_type": "code",
        "colab": {
          "base_uri": "https://localhost:8080/",
          "height": 34
        },
        "outputId": "254b4481-982f-4094-c0a7-186fd11d079d"
      },
      "source": [
        "postFire = glcm_texture(postFire)\n",
        "print(postFire.bandNames().getInfo())"
      ],
      "execution_count": null,
      "outputs": [
        {
          "output_type": "stream",
          "text": [
            "['R', 'G', 'B', 'N', 'NDVI', 'edge', 'BSI', 'SI', 'texture', 'N_corr', 'N_var', 'B_shade', 'N_shade']\n"
          ],
          "name": "stdout"
        }
      ]
    },
    {
      "cell_type": "markdown",
      "metadata": {
        "id": "pLVx8RUb9TOk",
        "colab_type": "text"
      },
      "source": [
        "### Convolution Layers\n",
        "\n",
        "(tuned with best visual performance)\n",
        "- low-pass convolutional filter (Gaussian)\n",
        "- high-pass filter and gradient (has been represented by canny edge detection above)\n",
        "- shape-sensitive filter (rectangle, octagon)\n",
        "- manhattan kernel based on rectilinear (city-block) distance"
      ]
    },
    {
      "cell_type": "code",
      "metadata": {
        "id": "4l50EZ2v9X-l",
        "colab_type": "code",
        "colab": {}
      },
      "source": [
        "def conv_filter(image):\n",
        "    '''\n",
        "    apply gaussian, octagon, and mangattan convolutional filters to the image\n",
        "    '''\n",
        "    #define filters\n",
        "    #Gaussian\n",
        "    gauss=ee.Kernel.gaussian(radius=7, sigma=2, units='pixels', normalize=True)\n",
        "    # #define a 19 by 11 rectangle low pass filter\n",
        "    # low_pass_rect1 = ee.Kernel.rectangle(xRadius=9,yRadius=5, units='pixels', normalize=True);\n",
        "    # #the opposite way\n",
        "    # low_pass_rect2 = ee.Kernel.rectangle(xRadius=5,yRadius=9, units='pixels', normalize=True);\n",
        "    #octagon\n",
        "    low_oct = ee.Kernel.octagon(radius=5, units='pixels', normalize=True);\n",
        "    #manhattan\n",
        "    manha=ee.Kernel.manhattan(radius=4, units='pixels', normalize=True)\n",
        "    new_image=image\n",
        "    filt_dict={'gauss':gauss,'low_oct':low_oct,'manha':manha}\n",
        "    for name,filt in filt_dict.items():\n",
        "        smooth=image.select(['R','G','B','N']).convolve(filt).rename(['R_'+name,'G_'+name,'B_'+name,'N_'+name])\n",
        "        new_image = new_image.addBands(smooth)\n",
        "    return new_image"
      ],
      "execution_count": null,
      "outputs": []
    },
    {
      "cell_type": "code",
      "metadata": {
        "id": "9h77iXsx9dLf",
        "colab_type": "code",
        "colab": {
          "base_uri": "https://localhost:8080/",
          "height": 54
        },
        "outputId": "96c4adc4-73bf-4958-cabf-ae23dfc20476"
      },
      "source": [
        "postFire = conv_filter(postFire)\n",
        "print(postFire.bandNames().getInfo())"
      ],
      "execution_count": null,
      "outputs": [
        {
          "output_type": "stream",
          "text": [
            "['R', 'G', 'B', 'N', 'NDVI', 'edge', 'BSI', 'SI', 'texture', 'N_corr', 'N_var', 'B_shade', 'N_shade', 'R_gauss', 'G_gauss', 'B_gauss', 'N_gauss', 'R_low_oct', 'G_low_oct', 'B_low_oct', 'N_low_oct', 'R_manha', 'G_manha', 'B_manha', 'N_manha']\n"
          ],
          "name": "stdout"
        }
      ]
    },
    {
      "cell_type": "markdown",
      "metadata": {
        "id": "u4mXrDw0eRc5",
        "colab_type": "text"
      },
      "source": [
        "### Visualize Indices"
      ]
    },
    {
      "cell_type": "code",
      "metadata": {
        "id": "GOfkYQwdkK3O",
        "colab_type": "code",
        "colab": {
          "base_uri": "https://localhost:8080/",
          "height": 838
        },
        "outputId": "87a84cac-eb03-4860-af70-72dd1cc26975"
      },
      "source": [
        "siViz = {'min': 0, 'max': 100, 'palette': ['ffff00', '330033']}\n",
        "bsiViz = {'min': 0.0, 'max': 0.3, 'palette': ['7fffd4', 'b99879']}\n",
        "ndviViz = {'min': -0.5, 'max': 0.5, 'palette': ['cc8e7f', '268b07']}\n",
        "texViz = {'min': 0, 'max': 4000, 'palette': ['fe6b73', '7fffd4']}\n",
        "\n",
        "Map = emap.Map(center=[38.50178453635526,-122.74843617724784], zoom=16)\n",
        "Map.addLayer(postFire.select(['R', 'G', 'B']), trueColorVis, 'preFire')\n",
        "Map.addLayer(postFire.select(['NDVI']),ndviViz, 'NDVI')\n",
        "Map.addLayer(postFire.select(['SI']),siViz, 'SI')\n",
        "Map.addLayer(postFire.select(['edge']),'', 'Canny')\n",
        "Map.addLayer(postFire.select(['BSI']),bsiViz, 'BSI')\n",
        "Map.addLayer(postFire.select(['texture']),texViz, 'texture')\n",
        "Map.addLayer(visualizeByAttribute(predicted_poly, 'class'), {'palette': train_palette, 'min': 0, 'max':1}, 'predicted_poly')\n",
        "Map.addLayerControl()\n",
        "Map"
      ],
      "execution_count": null,
      "outputs": [
        {
          "output_type": "execute_result",
          "data": {
            "text/html": [
              "<div style=\"width:100%;\"><div style=\"position:relative;width:100%;height:0;padding-bottom:60%;\"><span style=\"color:#565656\">Make this Notebook Trusted to load map: File -> Trust Notebook</span><iframe src=\"about:blank\" style=\"position:absolute;width:100%;height:100%;left:0;top:0;border:none !important;\" data-html=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 onload=\"this.contentDocument.open();this.contentDocument.write(atob(this.getAttribute('data-html')));this.contentDocument.close();\" allowfullscreen webkitallowfullscreen mozallowfullscreen></iframe></div></div>"
            ],
            "text/plain": [
              "<geemap.eefolium.Map at 0x7fcaafbe7278>"
            ]
          },
          "metadata": {
            "tags": []
          },
          "execution_count": 34
        }
      ]
    },
    {
      "cell_type": "code",
      "metadata": {
        "id": "dTUybpXrFkwQ",
        "colab_type": "code",
        "colab": {}
      },
      "source": [
        ""
      ],
      "execution_count": null,
      "outputs": []
    },
    {
      "cell_type": "markdown",
      "metadata": {
        "id": "VxN9gDRal2Xu",
        "colab_type": "text"
      },
      "source": [
        "## Simple Non-Iterative Clustering Segmentation (SNIC)"
      ]
    },
    {
      "cell_type": "markdown",
      "metadata": {
        "id": "R8_lY3HZLmYP",
        "colab_type": "text"
      },
      "source": [
        "### Simple Non-Iterative Clustering (SNIC) Segmentation\n",
        "\n",
        "**Description:** An improved version of non-parametric SLIC. Superpixel clustering based on SNIC (Simple Non-Iterative Clustering). Outputs a band of cluster IDs and the per-cluster averages for each of the input bands. Outputs a band of cluster IDs and the per-cluster averages for each of the input bands.\n",
        "\n",
        "<br>\n",
        "\n",
        "**ee.Algorithms.Image.Segmentation.SNIC(image, size, compactness, connectivity, neighborhoodSize, seeds)**\n",
        "\n",
        "*   **size:** The superpixel seed location spacing, in pixels. If 'seeds' image is provided, no grid is produced.\n",
        "*   **compactness:** Compactness factor. Larger values cause clusters to be more compact (square). Setting this to 0 disables spatial distance weighting.\n",
        "*   **connectivity:** Connectivity. Either 4 or 8.\n",
        "*   **neighbor:** Tile neighborhood size (to avoid tile boundary artifacts). Defaults to 2 * size.\n",
        "*   **seeds:** If provided, any non-zero valued pixels are used as seed locations. Pixels that touch (as specified by 'connectivity') are considered to belong to the same cluster.\n",
        "\n",
        "\n"
      ]
    },
    {
      "cell_type": "code",
      "metadata": {
        "id": "ShzKuBl_rBSa",
        "colab_type": "code",
        "colab": {}
      },
      "source": [
        "def expandSeeds(seeds): \n",
        "  seeds = seeds.unmask(0).focal_max()\n",
        "  return seeds.updateMask(seeds)"
      ],
      "execution_count": null,
      "outputs": []
    },
    {
      "cell_type": "code",
      "metadata": {
        "id": "NKy_U7t9lzDj",
        "colab_type": "code",
        "colab": {}
      },
      "source": [
        "seeds = ee.Algorithms.Image.Segmentation.seedGrid(30)\n",
        "\n",
        "post_snic = ee.Algorithms.Image.Segmentation.SNIC(postFire, 30, 15, 8)\n",
        "post_clusters = post_snic.select('clusters').rename('SNIC')"
      ],
      "execution_count": null,
      "outputs": []
    },
    {
      "cell_type": "code",
      "metadata": {
        "id": "ST1hXVjklTQb",
        "colab_type": "code",
        "colab": {}
      },
      "source": [
        "# add layer\n",
        "postFire = postFire.addBands(post_clusters)\n",
        "print(postFire.bandNames().getInfo())"
      ],
      "execution_count": null,
      "outputs": []
    },
    {
      "cell_type": "code",
      "metadata": {
        "id": "HWAaaMwkzGFR",
        "colab_type": "code",
        "colab": {
          "base_uri": "https://localhost:8080/",
          "height": 732
        },
        "outputId": "a3feeea8-ff0e-4421-f891-d26ac7cba457"
      },
      "source": [
        "Map = emap.Map(center=[38.50178453635526,-122.74843617724784], zoom=18)\n",
        "Map.addLayer(pre_clusters.randomVisualizer(),'' , \"clusters\")\n",
        "Map.addLayer(post_clusters.randomVisualizer(),'', 'postFire_SNIC', opacity=0.6)\n",
        "Map.addLayer(expandSeeds(seeds), {}, 'seeds')\n",
        "Map.addLayer(train_data, {'color': 'yellow'}, 'training',opacity=0.4)\n",
        "Map.addLayer(test_data, {'color': 'blue'}, 'testing',opacity=0.4)\n",
        "Map.addLayerControl()\n",
        "Map"
      ],
      "execution_count": null,
      "outputs": [
        {
          "output_type": "execute_result",
          "data": {
            "text/html": [
              "<div style=\"width:100%;\"><div style=\"position:relative;width:100%;height:0;padding-bottom:60%;\"><span style=\"color:#565656\">Make this Notebook Trusted to load map: File -> Trust Notebook</span><iframe src=\"about:blank\" style=\"position:absolute;width:100%;height:100%;left:0;top:0;border:none !important;\" data-html=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 onload=\"this.contentDocument.open();this.contentDocument.write(atob(this.getAttribute('data-html')));this.contentDocument.close();\" allowfullscreen webkitallowfullscreen mozallowfullscreen></iframe></div></div>"
            ],
            "text/plain": [
              "<geemap.eefolium.Map at 0x7fb2fa097080>"
            ]
          },
          "metadata": {
            "tags": []
          },
          "execution_count": 62
        }
      ]
    },
    {
      "cell_type": "code",
      "metadata": {
        "id": "kHljiR-sOYN1",
        "colab_type": "code",
        "colab": {}
      },
      "source": [
        "postFire_filt = naip_postfire.clip(predicted_poly)\n",
        "preFire_filt = naip_prefire.clip(predicted_poly)"
      ],
      "execution_count": null,
      "outputs": []
    },
    {
      "cell_type": "code",
      "metadata": {
        "id": "7onEUTVKNuKR",
        "colab_type": "code",
        "colab": {
          "base_uri": "https://localhost:8080/",
          "height": 838
        },
        "outputId": "8e093c26-e7a2-432c-9504-bdfdb786dda2"
      },
      "source": [
        "Map = emap.Map(center=[38.4815,-122.7084], zoom=11)\n",
        "Map.addLayer(naip_postfire.select(['R', 'G', 'B']), trueColorVis, 'postfire')\n",
        "Map.addLayer(naip_prefire.select(['R', 'G', 'B']), trueColorVis, 'prefire')\n",
        "Map.addLayer(visualizeByAttribute(predicted_poly, 'class'), {'palette': train_palette, 'min': 0, 'max':1}, 'predicted_poly')\n",
        "Map.addLayer(bounds_2018, {'color': 'white'}, 'bound', True, opacity=0.4)\n",
        "Map.addLayerControl()\n",
        "Map\n",
        "\n",
        "#Basemap can only be one of the following: ROADMAP, SATELLITE, TERRAIN, HYBRID, ESRI, Esri Ocean, Esri Satellite, \n",
        "#Esri Standard, Esri Terrain, Esri Transportation, Esri Topo World, \n",
        "#Esri National Geographic, Esri Shaded Relief, Esri Physical Map, Bing VirtualEarth, 3DEP Elevation, NAIP Imagery"
      ],
      "execution_count": null,
      "outputs": [
        {
          "output_type": "execute_result",
          "data": {
            "text/html": [
              "<div style=\"width:100%;\"><div style=\"position:relative;width:100%;height:0;padding-bottom:60%;\"><span style=\"color:#565656\">Make this Notebook Trusted to load map: File -> Trust Notebook</span><iframe src=\"about:blank\" style=\"position:absolute;width:100%;height:100%;left:0;top:0;border:none !important;\" data-html=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 onload=\"this.contentDocument.open();this.contentDocument.write(atob(this.getAttribute('data-html')));this.contentDocument.close();\" allowfullscreen webkitallowfullscreen mozallowfullscreen></iframe></div></div>"
            ],
            "text/plain": [
              "<geemap.eefolium.Map at 0x7fcaa73d2f28>"
            ]
          },
          "metadata": {
            "tags": []
          },
          "execution_count": 198
        }
      ]
    },
    {
      "cell_type": "code",
      "metadata": {
        "id": "xZERk0_YN2rN",
        "colab_type": "code",
        "colab": {}
      },
      "source": [
        ""
      ],
      "execution_count": null,
      "outputs": []
    },
    {
      "cell_type": "markdown",
      "metadata": {
        "id": "XHqQ5HhYPGZQ",
        "colab_type": "text"
      },
      "source": [
        "## Supervised Classification"
      ]
    },
    {
      "cell_type": "markdown",
      "metadata": {
        "id": "6YR3ROAPYl8B",
        "colab_type": "text"
      },
      "source": [
        "### Train Data"
      ]
    },
    {
      "cell_type": "code",
      "metadata": {
        "id": "Kas7v6CcljkS",
        "colab_type": "code",
        "colab": {
          "base_uri": "https://localhost:8080/",
          "height": 54
        },
        "outputId": "98ebb431-5075-475f-a3df-a7990c2eeb8b"
      },
      "source": [
        "# get layer names \n",
        "print(postFire_filt.bandNames().getInfo())"
      ],
      "execution_count": null,
      "outputs": [
        {
          "output_type": "stream",
          "text": [
            "['R', 'G', 'B', 'N', 'NDVI', 'edge', 'BSI', 'SI', 'texture', 'N_corr', 'N_var', 'B_shade', 'N_shade', 'R_gauss', 'G_gauss', 'B_gauss', 'N_gauss', 'R_low_oct', 'G_low_oct', 'B_low_oct', 'N_low_oct', 'R_manha', 'G_manha', 'B_manha', 'N_manha']\n"
          ],
          "name": "stdout"
        }
      ]
    },
    {
      "cell_type": "code",
      "metadata": {
        "id": "A_wcJhquYkR0",
        "colab_type": "code",
        "colab": {}
      },
      "source": [
        "bands = ['R', 'G', 'B', 'N'] #'NDVI', 'BSI']  # Bands & Indices\n",
        "         #'SNIC', # Clustering, Segmentation\n",
        "        #  'N_corr', 'B_shade', 'B_gauss', # GLCM Texture\n",
        "        #  'R_manha','R_low_oct'] # Convolution \n",
        "training = postFire_filt.select(bands).sampleRegions(**{\n",
        "  'collection': predicted_poly,\n",
        "  'properties': ['class'],\n",
        "  'scale': 10\n",
        "});"
      ],
      "execution_count": null,
      "outputs": []
    },
    {
      "cell_type": "markdown",
      "metadata": {
        "id": "S8rNGShun1oK",
        "colab_type": "text"
      },
      "source": [
        "### Random Forest\n",
        "\n",
        "ee.Classifier.randomForest(numberOfTrees, variablesPerSplit, minLeafPopulation, bagFraction, outOfBagMode, seed)\n"
      ]
    },
    {
      "cell_type": "markdown",
      "metadata": {
        "id": "dzcJ2zItER97",
        "colab_type": "text"
      },
      "source": [
        "#### Classifier"
      ]
    },
    {
      "cell_type": "code",
      "metadata": {
        "id": "YMQyMiOnNLTF",
        "colab_type": "code",
        "colab": {}
      },
      "source": [
        "# Create an SVM classifier with custom parameters.\n",
        "classifier = ee.Classifier.smileRandomForest(**{\n",
        "  'numberOfTrees': 100\n",
        "}).train(training, 'class', bands)\n",
        "\n",
        "postFire_classified = postFire_filt.select(bands).classify(classifier)"
      ],
      "execution_count": null,
      "outputs": []
    },
    {
      "cell_type": "markdown",
      "metadata": {
        "id": "wnSLtCMVMkKg",
        "colab_type": "text"
      },
      "source": [
        "#### Feature Importance"
      ]
    },
    {
      "cell_type": "code",
      "metadata": {
        "id": "nO5yzCXvJexS",
        "colab_type": "code",
        "colab": {}
      },
      "source": [
        "class_explain = classifier.explain()\n",
        "variable_importance = ee.Feature(None, ee.Dictionary(class_explain).get('importance'))\n",
        "variable_importance.getInfo()"
      ],
      "execution_count": null,
      "outputs": []
    },
    {
      "cell_type": "code",
      "metadata": {
        "id": "jDvcpDYYUjhR",
        "colab_type": "code",
        "colab": {
          "base_uri": "https://localhost:8080/",
          "height": 293
        },
        "outputId": "7970482c-a447-492a-a4ad-ee818af1f8e4"
      },
      "source": [
        "sns.set(style=\"whitegrid\")\n",
        "sns.set_color_codes(\"pastel\")\n",
        "\n",
        "var_dict = variable_importance.getInfo()\n",
        "\n",
        "lists = sorted(var_dict['properties'].items(), key = lambda kv:(kv[1], kv[0]), reverse=True)\n",
        "var = [i[0] for i in lists]\n",
        "values = [i[1] for i in lists]\n",
        "d = pd.DataFrame({'Variables':var,'Values':values})\n",
        "\n",
        "sns.barplot('Values', 'Variables', data = d, label=\"Variables\", color=\"b\")\n",
        "plt.tight_layout()\n",
        "plt.savefig(\"figures/RF_feature_imp.png\", dpi=250)"
      ],
      "execution_count": null,
      "outputs": [
        {
          "output_type": "display_data",
          "data": {
            "image/png": "[encoded data removed]",
            "text/plain": [
              "<Figure size 432x288 with 1 Axes>"
            ]
          },
          "metadata": {
            "tags": []
          }
        }
      ]
    },
    {
      "cell_type": "markdown",
      "metadata": {
        "id": "j4dXFbu3EWxx",
        "colab_type": "text"
      },
      "source": [
        "####Validation"
      ]
    },
    {
      "cell_type": "code",
      "metadata": {
        "id": "xN6ltlsR98vI",
        "colab_type": "code",
        "colab": {}
      },
      "source": [
        "validation = postFire_classified.sampleRegions(**{\n",
        "  'collection': predicted_poly,\n",
        "  'properties': ['class'],\n",
        "  'scale': 100,\n",
        "})\n",
        "\n",
        "testAccuracy = validation.errorMatrix('class', 'classification');"
      ],
      "execution_count": null,
      "outputs": []
    },
    {
      "cell_type": "code",
      "metadata": {
        "id": "Opg4F8-Utk64",
        "colab_type": "code",
        "colab": {
          "base_uri": "https://localhost:8080/",
          "height": 443
        },
        "outputId": "fd83b75b-06de-41b3-ed05-64887abbd2d3"
      },
      "source": [
        "testAccuracy.array().getInfo()"
      ],
      "execution_count": null,
      "outputs": [
        {
          "output_type": "error",
          "ename": "EEException",
          "evalue": "ignored",
          "traceback": [
            "\u001b[0;31m---------------------------------------------------------------------------\u001b[0m",
            "\u001b[0;31mHttpError\u001b[0m                                 Traceback (most recent call last)",
            "\u001b[0;32m/usr/local/lib/python3.6/dist-packages/ee/data.py\u001b[0m in \u001b[0;36m_execute_cloud_call\u001b[0;34m(call, num_retries)\u001b[0m\n\u001b[1;32m    344\u001b[0m   \u001b[0;32mtry\u001b[0m\u001b[0;34m:\u001b[0m\u001b[0;34m\u001b[0m\u001b[0;34m\u001b[0m\u001b[0m\n\u001b[0;32m--> 345\u001b[0;31m     \u001b[0;32mreturn\u001b[0m \u001b[0mcall\u001b[0m\u001b[0;34m.\u001b[0m\u001b[0mexecute\u001b[0m\u001b[0;34m(\u001b[0m\u001b[0mnum_retries\u001b[0m\u001b[0;34m=\u001b[0m\u001b[0mnum_retries\u001b[0m\u001b[0;34m)\u001b[0m\u001b[0;34m\u001b[0m\u001b[0;34m\u001b[0m\u001b[0m\n\u001b[0m\u001b[1;32m    346\u001b[0m   \u001b[0;32mexcept\u001b[0m \u001b[0mgoogleapiclient\u001b[0m\u001b[0;34m.\u001b[0m\u001b[0merrors\u001b[0m\u001b[0;34m.\u001b[0m\u001b[0mHttpError\u001b[0m \u001b[0;32mas\u001b[0m \u001b[0me\u001b[0m\u001b[0;34m:\u001b[0m\u001b[0;34m\u001b[0m\u001b[0;34m\u001b[0m\u001b[0m\n",
            "\u001b[0;32m/usr/local/lib/python3.6/dist-packages/googleapiclient/_helpers.py\u001b[0m in \u001b[0;36mpositional_wrapper\u001b[0;34m(*args, **kwargs)\u001b[0m\n\u001b[1;32m    133\u001b[0m                     \u001b[0mlogger\u001b[0m\u001b[0;34m.\u001b[0m\u001b[0mwarning\u001b[0m\u001b[0;34m(\u001b[0m\u001b[0mmessage\u001b[0m\u001b[0;34m)\u001b[0m\u001b[0;34m\u001b[0m\u001b[0;34m\u001b[0m\u001b[0m\n\u001b[0;32m--> 134\u001b[0;31m             \u001b[0;32mreturn\u001b[0m \u001b[0mwrapped\u001b[0m\u001b[0;34m(\u001b[0m\u001b[0;34m*\u001b[0m\u001b[0margs\u001b[0m\u001b[0;34m,\u001b[0m \u001b[0;34m**\u001b[0m\u001b[0mkwargs\u001b[0m\u001b[0;34m)\u001b[0m\u001b[0;34m\u001b[0m\u001b[0;34m\u001b[0m\u001b[0m\n\u001b[0m\u001b[1;32m    135\u001b[0m \u001b[0;34m\u001b[0m\u001b[0m\n",
            "\u001b[0;32m/usr/local/lib/python3.6/dist-packages/googleapiclient/http.py\u001b[0m in \u001b[0;36mexecute\u001b[0;34m(self, http, num_retries)\u001b[0m\n\u001b[1;32m    897\u001b[0m         \u001b[0;32mif\u001b[0m \u001b[0mresp\u001b[0m\u001b[0;34m.\u001b[0m\u001b[0mstatus\u001b[0m \u001b[0;34m>=\u001b[0m \u001b[0;36m300\u001b[0m\u001b[0;34m:\u001b[0m\u001b[0;34m\u001b[0m\u001b[0;34m\u001b[0m\u001b[0m\n\u001b[0;32m--> 898\u001b[0;31m             \u001b[0;32mraise\u001b[0m \u001b[0mHttpError\u001b[0m\u001b[0;34m(\u001b[0m\u001b[0mresp\u001b[0m\u001b[0;34m,\u001b[0m \u001b[0mcontent\u001b[0m\u001b[0;34m,\u001b[0m \u001b[0muri\u001b[0m\u001b[0;34m=\u001b[0m\u001b[0mself\u001b[0m\u001b[0;34m.\u001b[0m\u001b[0muri\u001b[0m\u001b[0;34m)\u001b[0m\u001b[0;34m\u001b[0m\u001b[0;34m\u001b[0m\u001b[0m\n\u001b[0m\u001b[1;32m    899\u001b[0m         \u001b[0;32mreturn\u001b[0m \u001b[0mself\u001b[0m\u001b[0;34m.\u001b[0m\u001b[0mpostproc\u001b[0m\u001b[0;34m(\u001b[0m\u001b[0mresp\u001b[0m\u001b[0;34m,\u001b[0m \u001b[0mcontent\u001b[0m\u001b[0;34m)\u001b[0m\u001b[0;34m\u001b[0m\u001b[0;34m\u001b[0m\u001b[0m\n",
            "\u001b[0;31mHttpError\u001b[0m: <HttpError 400 when requesting https://earthengine.googleapis.com/v1alpha/projects/earthengine-legacy/value:compute?prettyPrint=false&alt=json returned \"User memory limit exceeded.\">",
            "\nDuring handling of the above exception, another exception occurred:\n",
            "\u001b[0;31mEEException\u001b[0m                               Traceback (most recent call last)",
            "\u001b[0;32m<ipython-input-164-fad69093f58f>\u001b[0m in \u001b[0;36m<module>\u001b[0;34m()\u001b[0m\n\u001b[0;32m----> 1\u001b[0;31m \u001b[0mtestAccuracy\u001b[0m\u001b[0;34m.\u001b[0m\u001b[0marray\u001b[0m\u001b[0;34m(\u001b[0m\u001b[0;34m)\u001b[0m\u001b[0;34m.\u001b[0m\u001b[0mgetInfo\u001b[0m\u001b[0;34m(\u001b[0m\u001b[0;34m)\u001b[0m\u001b[0;34m\u001b[0m\u001b[0;34m\u001b[0m\u001b[0m\n\u001b[0m",
            "\u001b[0;32m/usr/local/lib/python3.6/dist-packages/ee/computedobject.py\u001b[0m in \u001b[0;36mgetInfo\u001b[0;34m(self)\u001b[0m\n\u001b[1;32m     93\u001b[0m       \u001b[0mThe\u001b[0m \u001b[0mobject\u001b[0m \u001b[0mcan\u001b[0m \u001b[0mevaluate\u001b[0m \u001b[0mto\u001b[0m \u001b[0manything\u001b[0m\u001b[0;34m.\u001b[0m\u001b[0;34m\u001b[0m\u001b[0;34m\u001b[0m\u001b[0m\n\u001b[1;32m     94\u001b[0m     \"\"\"\n\u001b[0;32m---> 95\u001b[0;31m     \u001b[0;32mreturn\u001b[0m \u001b[0mdata\u001b[0m\u001b[0;34m.\u001b[0m\u001b[0mcomputeValue\u001b[0m\u001b[0;34m(\u001b[0m\u001b[0mself\u001b[0m\u001b[0;34m)\u001b[0m\u001b[0;34m\u001b[0m\u001b[0;34m\u001b[0m\u001b[0m\n\u001b[0m\u001b[1;32m     96\u001b[0m \u001b[0;34m\u001b[0m\u001b[0m\n\u001b[1;32m     97\u001b[0m   \u001b[0;32mdef\u001b[0m \u001b[0mencode\u001b[0m\u001b[0;34m(\u001b[0m\u001b[0mself\u001b[0m\u001b[0;34m,\u001b[0m \u001b[0mencoder\u001b[0m\u001b[0;34m)\u001b[0m\u001b[0;34m:\u001b[0m\u001b[0;34m\u001b[0m\u001b[0;34m\u001b[0m\u001b[0m\n",
            "\u001b[0;32m/usr/local/lib/python3.6/dist-packages/ee/data.py\u001b[0m in \u001b[0;36mcomputeValue\u001b[0;34m(obj)\u001b[0m\n\u001b[1;32m    708\u001b[0m             \u001b[0mbody\u001b[0m\u001b[0;34m=\u001b[0m\u001b[0;34m{\u001b[0m\u001b[0;34m'expression'\u001b[0m\u001b[0;34m:\u001b[0m \u001b[0mserializer\u001b[0m\u001b[0;34m.\u001b[0m\u001b[0mencode\u001b[0m\u001b[0;34m(\u001b[0m\u001b[0mobj\u001b[0m\u001b[0;34m,\u001b[0m \u001b[0mfor_cloud_api\u001b[0m\u001b[0;34m=\u001b[0m\u001b[0;32mTrue\u001b[0m\u001b[0;34m)\u001b[0m\u001b[0;34m}\u001b[0m\u001b[0;34m,\u001b[0m\u001b[0;34m\u001b[0m\u001b[0;34m\u001b[0m\u001b[0m\n\u001b[1;32m    709\u001b[0m             \u001b[0mproject\u001b[0m\u001b[0;34m=\u001b[0m\u001b[0m_get_projects_path\u001b[0m\u001b[0;34m(\u001b[0m\u001b[0;34m)\u001b[0m\u001b[0;34m,\u001b[0m\u001b[0;34m\u001b[0m\u001b[0;34m\u001b[0m\u001b[0m\n\u001b[0;32m--> 710\u001b[0;31m             prettyPrint=False))['result']\n\u001b[0m\u001b[1;32m    711\u001b[0m   return send_('/value', {\n\u001b[1;32m    712\u001b[0m       \u001b[0;34m'json'\u001b[0m\u001b[0;34m:\u001b[0m \u001b[0mobj\u001b[0m\u001b[0;34m.\u001b[0m\u001b[0mserialize\u001b[0m\u001b[0;34m(\u001b[0m\u001b[0mfor_cloud_api\u001b[0m\u001b[0;34m=\u001b[0m\u001b[0;32mFalse\u001b[0m\u001b[0;34m)\u001b[0m\u001b[0;34m,\u001b[0m\u001b[0;34m\u001b[0m\u001b[0;34m\u001b[0m\u001b[0m\n",
            "\u001b[0;32m/usr/local/lib/python3.6/dist-packages/ee/data.py\u001b[0m in \u001b[0;36m_execute_cloud_call\u001b[0;34m(call, num_retries)\u001b[0m\n\u001b[1;32m    345\u001b[0m     \u001b[0;32mreturn\u001b[0m \u001b[0mcall\u001b[0m\u001b[0;34m.\u001b[0m\u001b[0mexecute\u001b[0m\u001b[0;34m(\u001b[0m\u001b[0mnum_retries\u001b[0m\u001b[0;34m=\u001b[0m\u001b[0mnum_retries\u001b[0m\u001b[0;34m)\u001b[0m\u001b[0;34m\u001b[0m\u001b[0;34m\u001b[0m\u001b[0m\n\u001b[1;32m    346\u001b[0m   \u001b[0;32mexcept\u001b[0m \u001b[0mgoogleapiclient\u001b[0m\u001b[0;34m.\u001b[0m\u001b[0merrors\u001b[0m\u001b[0;34m.\u001b[0m\u001b[0mHttpError\u001b[0m \u001b[0;32mas\u001b[0m \u001b[0me\u001b[0m\u001b[0;34m:\u001b[0m\u001b[0;34m\u001b[0m\u001b[0;34m\u001b[0m\u001b[0m\n\u001b[0;32m--> 347\u001b[0;31m     \u001b[0;32mraise\u001b[0m \u001b[0m_translate_cloud_exception\u001b[0m\u001b[0;34m(\u001b[0m\u001b[0me\u001b[0m\u001b[0;34m)\u001b[0m\u001b[0;34m\u001b[0m\u001b[0;34m\u001b[0m\u001b[0m\n\u001b[0m\u001b[1;32m    348\u001b[0m \u001b[0;34m\u001b[0m\u001b[0m\n\u001b[1;32m    349\u001b[0m \u001b[0;34m\u001b[0m\u001b[0m\n",
            "\u001b[0;31mEEException\u001b[0m: User memory limit exceeded."
          ]
        }
      ]
    },
    {
      "cell_type": "code",
      "metadata": {
        "id": "8KuNv9oN-ByY",
        "colab_type": "code",
        "colab": {
          "base_uri": "https://localhost:8080/",
          "height": 85
        },
        "outputId": "c776be88-5e65-4558-f85a-15b376ac7bf7"
      },
      "source": [
        "print(\"Test Accuracy: \", testAccuracy.accuracy().getInfo())\n",
        "print(\"Kappa Accuracy: \", testAccuracy.kappa().getInfo())\n",
        "print(\"Producer Accuracy: \", testAccuracy.producersAccuracy().getInfo())\n",
        "print(\"Consumers Accuracy(): \", testAccuracy.consumersAccuracy().getInfo())"
      ],
      "execution_count": null,
      "outputs": [
        {
          "output_type": "stream",
          "text": [
            "Test Accuracy:  0.8968799576943416\n",
            "Kappa Accuracy:  0.5866842718202837\n",
            "Producer Accuracy:  [[0.96875], [0.5479876160990712]]\n",
            "Consumers Accuracy():  [[0.9123123123123124, 0.7831858407079646]]\n"
          ],
          "name": "stdout"
        }
      ]
    },
    {
      "cell_type": "markdown",
      "metadata": {
        "id": "o8oiQsgnEZHg",
        "colab_type": "text"
      },
      "source": [
        "#### Classification Visual"
      ]
    },
    {
      "cell_type": "code",
      "metadata": {
        "id": "yguLXDmcgEka",
        "colab_type": "code",
        "colab": {}
      },
      "source": [
        "boxcar = ee.Kernel.square(**{\n",
        "  'radius': 2, \n",
        "  'units': 'pixels', \n",
        "  'magnitude': 1\n",
        "});\n",
        "\n",
        "smooth = postFire_classified.convolve(boxcar);"
      ],
      "execution_count": null,
      "outputs": []
    },
    {
      "cell_type": "code",
      "metadata": {
        "id": "F89kIkZZooEx",
        "colab_type": "code",
        "colab": {}
      },
      "source": [
        "class_palette = ['bff7ff','ff9900']\n",
        "\n",
        "Map = emap.Map(center=[38.50178453635526,-122.74843617724784], zoom=11)\n",
        "# Map.addLayer(postFire.select(['R', 'G', 'B']), trueColorVis, 'postFire')\n",
        "Map.addLayer(postFire_classified,\n",
        "             {'palette': class_palette, 'min': 0, 'max':1},\n",
        "             'postFire_classification')\n",
        "# Map.addLayer(smooth, {'palette': class_palette, 'min': 0, 'max':1}, 'smoothed');\n",
        "# Map.addLayer(visualizeByAttribute(predicted_poly, 'class'), {'palette': train_palette, 'min': 0, 'max':1}, 'train')\n",
        "Map.addLayerControl()\n",
        "Map"
      ],
      "execution_count": null,
      "outputs": []
    },
    {
      "cell_type": "code",
      "metadata": {
        "id": "VIcGZ3UHWN_f",
        "colab_type": "code",
        "colab": {}
      },
      "source": [
        "1"
      ],
      "execution_count": null,
      "outputs": []
    }
  ]
}